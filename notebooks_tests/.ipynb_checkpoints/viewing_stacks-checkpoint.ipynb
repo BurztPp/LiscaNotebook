{
 "cells": [
  {
   "cell_type": "code",
   "execution_count": 6,
   "id": "8821bbac-08f4-4998-937c-e656a1d278f4",
   "metadata": {},
   "outputs": [],
   "source": [
    "import ipywidgets as widgets\n",
    "import matplotlib.pyplot as plt\n",
    "#import mpl_interactions.ipyplot as iplt\n",
    "from nd2reader import ND2Reader\n",
    "import pandas as pd\n",
    "from IPython.display import display\n",
    "import numpy as np\n",
    "import sys\n",
    "#sys.path.append('/home/m/Miguel.Atienza/celltracker')\n",
    "#sys.path.append('/mnt/d/ubuntu/physhome/celltracker')\n",
    "sys.path.append('/project/ag-moonraedler/MAtienza/pyama/')\n",
    "#from celltracker.pipeline import Track\n",
    "#from celltracker import functions\n",
    "from tqdm import tqdm\n",
    "import os\n",
    "from skimage.io import imread\n",
    "from notebook_viewer import viewers\n",
    "%matplotlib ipympl\n",
    "%load_ext autoreload"
   ]
  },
  {
   "cell_type": "code",
   "execution_count": 7,
   "id": "7b135906-675a-46c6-b932-883240a0774a",
   "metadata": {},
   "outputs": [],
   "source": [
    "data_path = '/project/ag-moonraedler/Nathalie/2022-04-25/hek293t-25um-30um-pattern-trafo.nd2'"
   ]
  },
  {
   "cell_type": "code",
   "execution_count": 9,
   "id": "bee57678-de06-4f76-b469-4caea2736e83",
   "metadata": {},
   "outputs": [
    {
     "data": {
      "application/vnd.jupyter.widget-view+json": {
       "model_id": "42ae9ea02e6748a48ed5777a43e05b38",
       "version_major": 2,
       "version_minor": 0
      },
      "text/plain": [
       "GridspecLayout(children=(Canvas(header_visible=False, layout=Layout(grid_area='widget001'), toolbar=Toolbar(to…"
      ]
     },
     "metadata": {},
     "output_type": "display_data"
    }
   ],
   "source": [
    "#%autoreload\n",
    "viewer = viewers.StackViewer(data_path)"
   ]
  },
  {
   "cell_type": "code",
   "execution_count": 11,
   "id": "68d17942-3773-42a6-98ef-534f29cdbd4e",
   "metadata": {},
   "outputs": [],
   "source": [
    "bf_channel=0"
   ]
  },
  {
   "cell_type": "code",
   "execution_count": 21,
   "id": "7179a635-b40d-486e-a597-8f93502fa1da",
   "metadata": {},
   "outputs": [
    {
     "data": {
      "application/vnd.jupyter.widget-view+json": {
       "model_id": "1b8feec8842f4669a03c6e9bfb25ccf5",
       "version_major": 2,
       "version_minor": 0
      },
      "text/plain": [
       "GridspecLayout(children=(Canvas(header_visible=False, layout=Layout(grid_area='widget001'), toolbar=Toolbar(to…"
      ]
     },
     "metadata": {},
     "output_type": "display_data"
    }
   ],
   "source": [
    "%autoreload\n",
    "segmentation_viewer = viewers.CellposeViewer(data_path, bf_channel)"
   ]
  },
  {
   "cell_type": "code",
   "execution_count": 12,
   "id": "8e0329a2-7be1-41e8-ae5b-bee9317bc620",
   "metadata": {},
   "outputs": [
    {
     "data": {
      "text/plain": [
       "['hi', 'ho']"
      ]
     },
     "execution_count": 12,
     "metadata": {},
     "output_type": "execute_result"
    }
   ],
   "source": [
    "[*{'hi':1, 'ho':2}]"
   ]
  },
  {
   "cell_type": "code",
   "execution_count": null,
   "id": "b7cd91c1-0f17-435d-9b3d-6fe520a6d8c6",
   "metadata": {},
   "outputs": [],
   "source": []
  }
 ],
 "metadata": {
  "kernelspec": {
   "display_name": "Celltracker",
   "language": "python",
   "name": "celltracker"
  },
  "language_info": {
   "codemirror_mode": {
    "name": "ipython",
    "version": 3
   },
   "file_extension": ".py",
   "mimetype": "text/x-python",
   "name": "python",
   "nbconvert_exporter": "python",
   "pygments_lexer": "ipython3",
   "version": "3.8.12"
  }
 },
 "nbformat": 4,
 "nbformat_minor": 5
}
