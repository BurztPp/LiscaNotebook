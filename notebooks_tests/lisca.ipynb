{
 "cells": [
  {
   "cell_type": "markdown",
   "id": "56453c1e-2176-4a69-8a9e-2ec697beb1fb",
   "metadata": {
    "tags": []
   },
   "source": [
    "# This is a notebook to perform LISCA analysis\n",
    "\n",
    "Each cell corresponds to a block of code, which can be run by selecting it and pressing shift+enter. The notebook is conceived to be run sequentially. For any errors or questions contact Miguel. Make sure to select the kernel named pyama on the top right. If you cannot find a kernel named pyama, have a look at the confluence page or contact Miguel."
   ]
  },
  {
   "cell_type": "markdown",
   "id": "5ab9d375-3374-418f-85c0-58cdec71e33f",
   "metadata": {},
   "source": [
    "Run the following Cell to make all the imports"
   ]
  },
  {
   "cell_type": "code",
   "execution_count": 10,
   "id": "8821bbac-08f4-4998-937c-e656a1d278f4",
   "metadata": {
    "tags": []
   },
   "outputs": [
    {
     "name": "stdout",
     "output_type": "stream",
     "text": [
      "The autoreload extension is already loaded. To reload it, use:\n",
      "  %reload_ext autoreload\n"
     ]
    }
   ],
   "source": [
    "import ipywidgets as widgets\n",
    "import matplotlib.pyplot as plt\n",
    "from nd2reader import ND2Reader\n",
    "import pandas as pd\n",
    "from IPython.display import display\n",
    "import numpy as np\n",
    "import sys\n",
    "import time\n",
    "\n",
    "sys.path.append('/project/ag-moonraedler/MAtienza/pyama/')\n",
    "from lisca.pipeline import Track\n",
    "\n",
    "from tqdm import tqdm\n",
    "import os\n",
    "from skimage.io import imread\n",
    "from notebook_viewer import viewers\n",
    "%matplotlib ipympl\n",
    "%load_ext autoreload"
   ]
  },
  {
   "cell_type": "markdown",
   "id": "6388ede2-cb01-45d2-a20f-63ccae95661b",
   "metadata": {},
   "source": [
    "Select the folder where your imaging file is located, as well as the folder where you would like for the output of the analysis to be saved"
   ]
  },
  {
   "cell_type": "code",
   "execution_count": 2,
   "id": "7b135906-675a-46c6-b932-883240a0774a",
   "metadata": {},
   "outputs": [],
   "source": [
    "data_path = '/project/ag-moonraedler/Nathalie/2022-10-11/'\n",
    "nd2_file = '2022-10-11-mGL-GA890-L908.nd2'\n",
    "path_out='/project/ag-moonraedler/MAtienza/pyama/forNAthalie/'"
   ]
  },
  {
   "cell_type": "markdown",
   "id": "30cbc9fe-bf42-4d9d-9a5f-ddab59a88f69",
   "metadata": {},
   "source": [
    "You can use this tool to have a look at your images and find out which channel (c) is BF and which which channels are fluorscence."
   ]
  },
  {
   "cell_type": "code",
   "execution_count": 10,
   "id": "bee57678-de06-4f76-b469-4caea2736e83",
   "metadata": {},
   "outputs": [
    {
     "data": {
      "application/vnd.jupyter.widget-view+json": {
       "model_id": "6560ed836f84480c8ec601c3d13d34e5",
       "version_major": 2,
       "version_minor": 0
      },
      "text/plain": [
       "GridspecLayout(children=(Canvas(header_visible=False, layout=Layout(grid_area='widget001'), toolbar=Toolbar(to…"
      ]
     },
     "metadata": {},
     "output_type": "display_data"
    }
   ],
   "source": [
    "viewer = viewers.StackViewer(os.path.join(data_path, nd2_file))"
   ]
  },
  {
   "cell_type": "code",
   "execution_count": 12,
   "id": "8aaa94d0-8191-4683-b74e-1ef04c35c374",
   "metadata": {},
   "outputs": [],
   "source": [
    "plt.close(viewer.fig)"
   ]
  },
  {
   "cell_type": "code",
   "execution_count": 3,
   "id": "f96aba35-f78b-4bd5-aee1-428289e48663",
   "metadata": {},
   "outputs": [],
   "source": [
    "first=25\n",
    "last=53\n",
    "positions=range(first, last+1)\n",
    "fl_channel=1\n",
    "bf_channel=0"
   ]
  },
  {
   "cell_type": "code",
   "execution_count": 4,
   "id": "5b76caa3-2746-4ac7-826b-7a4731b8c9e5",
   "metadata": {},
   "outputs": [],
   "source": [
    "bf_channel=0\n",
    "fl_channels=[1,2]"
   ]
  },
  {
   "cell_type": "markdown",
   "id": "7f6068ae-4308-4027-a6b1-8fcb319d3193",
   "metadata": {},
   "source": [
    "If you plan to use cellpose segmentation,use this tool for calibration by checking which parameters work best. Otherwise you may skip this part\n"
   ]
  },
  {
   "cell_type": "code",
   "execution_count": 17,
   "id": "8991c0dd-8bc5-44ee-82a5-ba18d9a37c90",
   "metadata": {},
   "outputs": [
    {
     "data": {
      "application/vnd.jupyter.widget-view+json": {
       "model_id": "d04973ce325646ef960b1a69e18f84d9",
       "version_major": 2,
       "version_minor": 0
      },
      "text/plain": [
       "GridspecLayout(children=(Canvas(header_visible=False, layout=Layout(grid_area='widget001'), toolbar=Toolbar(to…"
      ]
     },
     "metadata": {},
     "output_type": "display_data"
    }
   ],
   "source": [
    "segmentation_viewer = viewers.CellposeViewer(data_path+nd2_file, channel=bf_channel)"
   ]
  },
  {
   "cell_type": "code",
   "execution_count": 6,
   "id": "52f36ad7-672b-48a6-9821-3c4a68c8a08c",
   "metadata": {},
   "outputs": [],
   "source": [
    "try:\n",
    "    flow_threshold, diameter, mask_threshold = segmentation_viewer.flow_threshold.value, segmentation_viewer.diameter.value, segmentation_viewer.mask_threshold.value\n",
    "    plt.close(segmentation_viewer.fig)\n",
    "except:\n",
    "    flow_threshold, diameter, mask_threshold = 0.8, 29, -2\n",
    "    "
   ]
  },
  {
   "cell_type": "markdown",
   "id": "53fe282f-d617-44a5-ab9f-0f8b1e716758",
   "metadata": {},
   "source": [
    "## Perform LISCA pipeline"
   ]
  },
  {
   "cell_type": "code",
   "execution_count": 7,
   "id": "1d330196-1b74-4e5a-96d1-e5a17ad28d89",
   "metadata": {},
   "outputs": [
    {
     "name": "stdout",
     "output_type": "stream",
     "text": [
      "The autoreload extension is already loaded. To reload it, use:\n",
      "  %reload_ext autoreload\n"
     ]
    }
   ],
   "source": [
    "%load_ext autoreload"
   ]
  },
  {
   "cell_type": "markdown",
   "id": "d3f9422e-93bd-4e58-89af-ae3cf84af5a0",
   "metadata": {},
   "source": [
    "Chose a method for segmentation from either \"th\", the standard pyama method or \"cellpose\""
   ]
  },
  {
   "cell_type": "code",
   "execution_count": 8,
   "id": "c7d4bb30-c73d-43c2-9d8e-2f224564690a",
   "metadata": {},
   "outputs": [],
   "source": [
    "method=\"th\""
   ]
  },
  {
   "cell_type": "markdown",
   "id": "20f303f2-d6ed-4218-89ef-bc50f9bacf82",
   "metadata": {},
   "source": [
    "Choose the positions you want to evalueate"
   ]
  },
  {
   "cell_type": "code",
   "execution_count": null,
   "id": "8845d321-0d75-4ad9-9c5a-0b2a2944d20b",
   "metadata": {},
   "outputs": [
    {
     "name": "stdout",
     "output_type": "stream",
     "text": [
      "Evaluating field of view 25\n",
      "Running segmentation with thresholding...\n"
     ]
    },
    {
     "name": "stderr",
     "output_type": "stream",
     "text": [
      "100%|█████████████████████████████████████████████████████████████████| 193/193 [04:02<00:00,  1.26s/it]\n"
     ]
    },
    {
     "name": "stdout",
     "output_type": "stream",
     "text": [
      "Reading cyto_masks_th.mp4 ...\n",
      "Done Reading\n",
      "Done reading.\n",
      "Done reading.\n",
      "Interpolating background\n"
     ]
    },
    {
     "name": "stderr",
     "output_type": "stream",
     "text": [
      " 28%|██████████████████▍                                               | 54/193 [00:45<01:56,  1.19it/s]"
     ]
    }
   ],
   "source": [
    "%autoreload\n",
    "n_positions=0\n",
    "t_0 = time.time()\n",
    "for fov in positions:\n",
    "    print(f'Evaluating field of view {fov}')\n",
    "    \n",
    "    fovpath=os.path.join(path_out, f'XY{fov}/')\n",
    "    if not os.path.isdir(fovpath):\n",
    "        os.mkdir(fovpath)\n",
    "    tracker = Track(fovpath, data_path, bf_channel, fl_channels, fov=fov, nd2_file=nd2_file)\n",
    "    tracker.segment(flow_threshold=flow_threshold, mask_threshold=mask_threshold, diameter=diameter, pretrained_model='mdamb231', method=method)\n",
    "    ##tracker.track(method=method)\n",
    "    tracker.save_to_pyama(fl_channel)\n",
    "    n_positions+=1\n",
    "print(f\"Time taken per position: {(time.time()-t_0)/(60*n_positions)} minutes\")"
   ]
  },
  {
   "cell_type": "code",
   "execution_count": null,
   "id": "40afb18e-d60e-4e30-b92f-d4f5bd3eec62",
   "metadata": {},
   "outputs": [],
   "source": [
    "%autoreload\n",
    "Resultsviewer=viewers.ResultsViewer(data_path+nd2_file, path_out)"
   ]
  },
  {
   "cell_type": "code",
   "execution_count": 96,
   "id": "e8811d84-0600-4224-a9d3-502f32d797a3",
   "metadata": {},
   "outputs": [
    {
     "data": {
      "text/html": [
       "<div>\n",
       "<style scoped>\n",
       "    .dataframe tbody tr th:only-of-type {\n",
       "        vertical-align: middle;\n",
       "    }\n",
       "\n",
       "    .dataframe tbody tr th {\n",
       "        vertical-align: top;\n",
       "    }\n",
       "\n",
       "    .dataframe thead th {\n",
       "        text-align: right;\n",
       "    }\n",
       "</style>\n",
       "<table border=\"1\" class=\"dataframe\">\n",
       "  <thead>\n",
       "    <tr style=\"text-align: right;\">\n",
       "      <th></th>\n",
       "      <th>Unnamed: 0</th>\n",
       "      <th>id</th>\n",
       "      <th>frame</th>\n",
       "      <th>x</th>\n",
       "      <th>y</th>\n",
       "      <th>fluorescence</th>\n",
       "      <th>particle</th>\n",
       "      <th>fl_channel</th>\n",
       "      <th>particle_id</th>\n",
       "    </tr>\n",
       "  </thead>\n",
       "  <tbody>\n",
       "    <tr>\n",
       "      <th>0</th>\n",
       "      <td>0</td>\n",
       "      <td>97</td>\n",
       "      <td>0</td>\n",
       "      <td>1087.177348</td>\n",
       "      <td>1415.548679</td>\n",
       "      <td>9083048704</td>\n",
       "      <td>7</td>\n",
       "      <td>eGFP_2s</td>\n",
       "      <td>7</td>\n",
       "    </tr>\n",
       "    <tr>\n",
       "      <th>1</th>\n",
       "      <td>1</td>\n",
       "      <td>21</td>\n",
       "      <td>0</td>\n",
       "      <td>1261.315871</td>\n",
       "      <td>245.804314</td>\n",
       "      <td>1478897803</td>\n",
       "      <td>73</td>\n",
       "      <td>eGFP_2s</td>\n",
       "      <td>73</td>\n",
       "    </tr>\n",
       "    <tr>\n",
       "      <th>2</th>\n",
       "      <td>2</td>\n",
       "      <td>19</td>\n",
       "      <td>0</td>\n",
       "      <td>1237.742323</td>\n",
       "      <td>237.806409</td>\n",
       "      <td>1706959216</td>\n",
       "      <td>78</td>\n",
       "      <td>eGFP_2s</td>\n",
       "      <td>78</td>\n",
       "    </tr>\n",
       "    <tr>\n",
       "      <th>3</th>\n",
       "      <td>3</td>\n",
       "      <td>34</td>\n",
       "      <td>0</td>\n",
       "      <td>2011.053613</td>\n",
       "      <td>460.336830</td>\n",
       "      <td>1855062480</td>\n",
       "      <td>87</td>\n",
       "      <td>eGFP_2s</td>\n",
       "      <td>87</td>\n",
       "    </tr>\n",
       "    <tr>\n",
       "      <th>4</th>\n",
       "      <td>4</td>\n",
       "      <td>16</td>\n",
       "      <td>0</td>\n",
       "      <td>1287.527822</td>\n",
       "      <td>197.090620</td>\n",
       "      <td>4231851809</td>\n",
       "      <td>89</td>\n",
       "      <td>eGFP_2s</td>\n",
       "      <td>89</td>\n",
       "    </tr>\n",
       "    <tr>\n",
       "      <th>...</th>\n",
       "      <td>...</td>\n",
       "      <td>...</td>\n",
       "      <td>...</td>\n",
       "      <td>...</td>\n",
       "      <td>...</td>\n",
       "      <td>...</td>\n",
       "      <td>...</td>\n",
       "      <td>...</td>\n",
       "      <td>...</td>\n",
       "    </tr>\n",
       "    <tr>\n",
       "      <th>7469</th>\n",
       "      <td>7469</td>\n",
       "      <td>7</td>\n",
       "      <td>170</td>\n",
       "      <td>1375.163693</td>\n",
       "      <td>60.363848</td>\n",
       "      <td>6246826676</td>\n",
       "      <td>93</td>\n",
       "      <td>DAPI_NS</td>\n",
       "      <td>93</td>\n",
       "    </tr>\n",
       "    <tr>\n",
       "      <th>7470</th>\n",
       "      <td>7470</td>\n",
       "      <td>6</td>\n",
       "      <td>170</td>\n",
       "      <td>1305.420523</td>\n",
       "      <td>75.242790</td>\n",
       "      <td>7233624178</td>\n",
       "      <td>5361</td>\n",
       "      <td>DAPI_NS</td>\n",
       "      <td>5361</td>\n",
       "    </tr>\n",
       "    <tr>\n",
       "      <th>7471</th>\n",
       "      <td>7471</td>\n",
       "      <td>43</td>\n",
       "      <td>170</td>\n",
       "      <td>1265.966583</td>\n",
       "      <td>569.434111</td>\n",
       "      <td>15186727935</td>\n",
       "      <td>6580</td>\n",
       "      <td>DAPI_NS</td>\n",
       "      <td>6580</td>\n",
       "    </tr>\n",
       "    <tr>\n",
       "      <th>7472</th>\n",
       "      <td>7472</td>\n",
       "      <td>31</td>\n",
       "      <td>170</td>\n",
       "      <td>1257.365123</td>\n",
       "      <td>338.008174</td>\n",
       "      <td>3635813412</td>\n",
       "      <td>353</td>\n",
       "      <td>DAPI_NS</td>\n",
       "      <td>353</td>\n",
       "    </tr>\n",
       "    <tr>\n",
       "      <th>7473</th>\n",
       "      <td>7473</td>\n",
       "      <td>113</td>\n",
       "      <td>170</td>\n",
       "      <td>433.874194</td>\n",
       "      <td>2037.074194</td>\n",
       "      <td>1489807680</td>\n",
       "      <td>548</td>\n",
       "      <td>DAPI_NS</td>\n",
       "      <td>548</td>\n",
       "    </tr>\n",
       "  </tbody>\n",
       "</table>\n",
       "<p>7474 rows × 9 columns</p>\n",
       "</div>"
      ],
      "text/plain": [
       "      Unnamed: 0   id  frame            x            y  fluorescence  \\\n",
       "0              0   97      0  1087.177348  1415.548679    9083048704   \n",
       "1              1   21      0  1261.315871   245.804314    1478897803   \n",
       "2              2   19      0  1237.742323   237.806409    1706959216   \n",
       "3              3   34      0  2011.053613   460.336830    1855062480   \n",
       "4              4   16      0  1287.527822   197.090620    4231851809   \n",
       "...          ...  ...    ...          ...          ...           ...   \n",
       "7469        7469    7    170  1375.163693    60.363848    6246826676   \n",
       "7470        7470    6    170  1305.420523    75.242790    7233624178   \n",
       "7471        7471   43    170  1265.966583   569.434111   15186727935   \n",
       "7472        7472   31    170  1257.365123   338.008174    3635813412   \n",
       "7473        7473  113    170   433.874194  2037.074194    1489807680   \n",
       "\n",
       "      particle fl_channel  particle_id  \n",
       "0            7    eGFP_2s            7  \n",
       "1           73    eGFP_2s           73  \n",
       "2           78    eGFP_2s           78  \n",
       "3           87    eGFP_2s           87  \n",
       "4           89    eGFP_2s           89  \n",
       "...        ...        ...          ...  \n",
       "7469        93    DAPI_NS           93  \n",
       "7470      5361    DAPI_NS         5361  \n",
       "7471      6580    DAPI_NS         6580  \n",
       "7472       353    DAPI_NS          353  \n",
       "7473       548    DAPI_NS          548  \n",
       "\n",
       "[7474 rows x 9 columns]"
      ]
     },
     "execution_count": 96,
     "metadata": {},
     "output_type": "execute_result"
    }
   ],
   "source": [
    "Resultsviewer.df"
   ]
  },
  {
   "cell_type": "code",
   "execution_count": 2,
   "id": "01402d50-ce8f-465d-9800-c3d024856063",
   "metadata": {},
   "outputs": [],
   "source": [
    "from src.img_op.background_correction import background_schwarzfischer"
   ]
  },
  {
   "cell_type": "code",
   "execution_count": null,
   "id": "d3d38680-5131-4073-b923-6282a52b91b4",
   "metadata": {},
   "outputs": [],
   "source": [
    "bg = background_schwarzfischer"
   ]
  },
  {
   "cell_type": "code",
   "execution_count": 8,
   "id": "b6480a9b-b802-409d-b629-639134a9c4c1",
   "metadata": {},
   "outputs": [
    {
     "data": {
      "text/plain": [
       "4.294950912000001"
      ]
     },
     "execution_count": 8,
     "metadata": {},
     "output_type": "execute_result"
    }
   ],
   "source": [
    "1431650304*1e-9 *3"
   ]
  },
  {
   "cell_type": "code",
   "execution_count": null,
   "id": "f76bc460-e426-441f-8168-a85c9e91abd4",
   "metadata": {},
   "outputs": [],
   "source": [
    "np.memmap()"
   ]
  }
 ],
 "metadata": {
  "kernelspec": {
   "display_name": "pyama",
   "language": "python",
   "name": "pyama"
  },
  "language_info": {
   "codemirror_mode": {
    "name": "ipython",
    "version": 3
   },
   "file_extension": ".py",
   "mimetype": "text/x-python",
   "name": "python",
   "nbconvert_exporter": "python",
   "pygments_lexer": "ipython3",
   "version": "3.8.13"
  }
 },
 "nbformat": 4,
 "nbformat_minor": 5
}
