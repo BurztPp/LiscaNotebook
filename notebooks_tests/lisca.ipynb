{
 "cells": [
  {
   "cell_type": "code",
   "execution_count": 1,
   "id": "8821bbac-08f4-4998-937c-e656a1d278f4",
   "metadata": {},
   "outputs": [],
   "source": [
    "import ipywidgets as widgets\n",
    "import matplotlib.pyplot as plt\n",
    "#import mpl_interactions.ipyplot as iplt\n",
    "from nd2reader import ND2Reader\n",
    "import pandas as pd\n",
    "from IPython.display import display\n",
    "import numpy as np\n",
    "import sys\n",
    "#sys.path.append('/home/m/Miguel.Atienza/celltracker')\n",
    "#sys.path.append('/mnt/d/ubuntu/physhome/celltracker')\n",
    "sys.path.append('/project/ag-moonraedler/MAtienza/pyama/')\n",
    "from lisca.pipeline import Track\n",
    "#from celltracker import functions\n",
    "from tqdm import tqdm\n",
    "import os\n",
    "from skimage.io import imread\n",
    "from notebook_viewer import viewers\n",
    "#from src.img_op import background_correction, coarse_binarize_phc\n",
    "#from src import tracking\n",
    "%matplotlib ipympl\n",
    "%load_ext autoreload"
   ]
  },
  {
   "cell_type": "code",
   "execution_count": 2,
   "id": "7b135906-675a-46c6-b932-883240a0774a",
   "metadata": {},
   "outputs": [],
   "source": [
    "data_path = '/project/ag-moonraedler/Nathalie/2022-04-25/'\n",
    "nd2_file='hek293t-25um-30um-pattern-trafo.nd2'\n",
    "path_out='/project/ag-moonraedler/MAtienza/pyama/test_data/'\n",
    "#data_path='/project/ag-moonraedler/MAtienza/Experiments/UNikon_230522/time_lapse001.nd2'"
   ]
  },
  {
   "cell_type": "code",
   "execution_count": 3,
   "id": "bee57678-de06-4f76-b469-4caea2736e83",
   "metadata": {},
   "outputs": [
    {
     "data": {
      "application/vnd.jupyter.widget-view+json": {
       "model_id": "edd026027c8a43f6ab4d84d87c96873c",
       "version_major": 2,
       "version_minor": 0
      },
      "text/plain": [
       "GridspecLayout(children=(Canvas(header_visible=False, layout=Layout(grid_area='widget001'), toolbar=Toolbar(to…"
      ]
     },
     "metadata": {},
     "output_type": "display_data"
    }
   ],
   "source": [
    "#%autoreload\n",
    "viewer = viewers.StackViewer(data_path+nd2_file)"
   ]
  },
  {
   "cell_type": "code",
   "execution_count": 5,
   "id": "5b76caa3-2746-4ac7-826b-7a4731b8c9e5",
   "metadata": {},
   "outputs": [],
   "source": [
    "%autoreload\n",
    "bf_channel=0\n",
    "fl_channels=[1,2]"
   ]
  },
  {
   "cell_type": "code",
   "execution_count": 8,
   "id": "8991c0dd-8bc5-44ee-82a5-ba18d9a37c90",
   "metadata": {},
   "outputs": [
    {
     "data": {
      "application/vnd.jupyter.widget-view+json": {
       "model_id": "5e430f512439497d947595ef4f95e26f",
       "version_major": 2,
       "version_minor": 0
      },
      "text/plain": [
       "GridspecLayout(children=(Canvas(header_visible=False, layout=Layout(grid_area='widget001'), toolbar=Toolbar(to…"
      ]
     },
     "metadata": {},
     "output_type": "display_data"
    }
   ],
   "source": [
    "%autoreload\n",
    "segmentation_viewer = viewers.CellposeViewer(data_path+nd2_file, channel=bf_channel)"
   ]
  },
  {
   "cell_type": "code",
   "execution_count": 77,
   "id": "52f36ad7-672b-48a6-9821-3c4a68c8a08c",
   "metadata": {},
   "outputs": [],
   "source": [
    "flow_threshold, diameter, mask_threshold = segmentation_viewer.flow_threshold.value, segmentation_viewer.diameter.value, segmentation_viewer.mask_threshold.value"
   ]
  },
  {
   "cell_type": "markdown",
   "id": "53fe282f-d617-44a5-ab9f-0f8b1e716758",
   "metadata": {},
   "source": [
    "## Perform LISCA pipeline"
   ]
  },
  {
   "cell_type": "code",
   "execution_count": 9,
   "id": "8845d321-0d75-4ad9-9c5a-0b2a2944d20b",
   "metadata": {},
   "outputs": [
    {
     "name": "stdout",
     "output_type": "stream",
     "text": [
      "Tracking channel eGFP_2s..\n"
     ]
    },
    {
     "ename": "KeyboardInterrupt",
     "evalue": "",
     "output_type": "error",
     "traceback": [
      "\u001b[0;31m---------------------------------------------------------------------------\u001b[0m",
      "\u001b[0;31mKeyboardInterrupt\u001b[0m                         Traceback (most recent call last)",
      "Input \u001b[0;32mIn [9]\u001b[0m, in \u001b[0;36m<cell line: 5>\u001b[0;34m()\u001b[0m\n\u001b[1;32m      3\u001b[0m tracker \u001b[38;5;241m=\u001b[39m Track(fovpath, data_path, bf_channel, fl_channels, fov\u001b[38;5;241m=\u001b[39m\u001b[38;5;241m0\u001b[39m, nd2_file\u001b[38;5;241m=\u001b[39mnd2_file)\n\u001b[1;32m      4\u001b[0m \u001b[38;5;66;03m#tracker.segment(flow_threshold=flow_threshold, mask_threshold=mask_threshold, diameter=diameter, pretrained_model='mdamb231')\u001b[39;00m\n\u001b[0;32m----> 5\u001b[0m \u001b[43mtracker\u001b[49m\u001b[38;5;241;43m.\u001b[39;49m\u001b[43mtrack\u001b[49m\u001b[43m(\u001b[49m\u001b[43m)\u001b[49m\n",
      "File \u001b[0;32m/project/ag-moonraedler/MAtienza/pyama/lisca/pipeline.py:197\u001b[0m, in \u001b[0;36mTrack.track\u001b[0;34m(self, track_memory, max_travel, min_frames, pixel_to_um, verbose)\u001b[0m\n\u001b[1;32m    195\u001b[0m label\u001b[38;5;241m=\u001b[39m \u001b[38;5;28mself\u001b[39m\u001b[38;5;241m.\u001b[39mchannel_labels[fl_channel]\n\u001b[1;32m    196\u001b[0m \u001b[38;5;28mprint\u001b[39m(\u001b[38;5;124mf\u001b[39m\u001b[38;5;124m'\u001b[39m\u001b[38;5;124mTracking channel \u001b[39m\u001b[38;5;132;01m{\u001b[39;00mlabel\u001b[38;5;132;01m}\u001b[39;00m\u001b[38;5;124m..\u001b[39m\u001b[38;5;124m'\u001b[39m)\n\u001b[0;32m--> 197\u001b[0m f_image \u001b[38;5;241m=\u001b[39m \u001b[38;5;28;43mself\u001b[39;49m\u001b[38;5;241;43m.\u001b[39;49m\u001b[43mread_image\u001b[49m\u001b[43m(\u001b[49m\u001b[43mc\u001b[49m\u001b[38;5;241;43m=\u001b[39;49m\u001b[43mfl_channel\u001b[49m\u001b[43m,\u001b[49m\u001b[43m \u001b[49m\u001b[43mframes\u001b[49m\u001b[38;5;241;43m=\u001b[39;49m\u001b[43mnp\u001b[49m\u001b[38;5;241;43m.\u001b[39;49m\u001b[43marange\u001b[49m\u001b[43m(\u001b[49m\u001b[38;5;28;43mself\u001b[39;49m\u001b[38;5;241;43m.\u001b[39;49m\u001b[43mn_images\u001b[49m\u001b[43m)\u001b[49m\u001b[43m)\u001b[49m\n\u001b[1;32m    198\u001b[0m df_channel \u001b[38;5;241m=\u001b[39m tracking\u001b[38;5;241m.\u001b[39mtrack(masks, f_image, track_memory\u001b[38;5;241m=\u001b[39mtrack_memory, max_travel\u001b[38;5;241m=\u001b[39mmax_travel, min_frames\u001b[38;5;241m=\u001b[39mmin_frames, pixel_to_um\u001b[38;5;241m=\u001b[39m\u001b[38;5;241m1\u001b[39m, verbose\u001b[38;5;241m=\u001b[39m\u001b[38;5;28;01mFalse\u001b[39;00m)\n\u001b[1;32m    200\u001b[0m df_channel\u001b[38;5;241m.\u001b[39mto_csv(\u001b[38;5;28mself\u001b[39m\u001b[38;5;241m.\u001b[39mdf_path)\n",
      "File \u001b[0;32m/project/ag-moonraedler/MAtienza/pyama/lisca/pipeline.py:146\u001b[0m, in \u001b[0;36mTrack.read_image\u001b[0;34m(self, c, frames)\u001b[0m\n\u001b[1;32m    142\u001b[0m         \u001b[38;5;28;01mreturn\u001b[39;00m \u001b[38;5;28mself\u001b[39m\u001b[38;5;241m.\u001b[39mconn\u001b[38;5;241m.\u001b[39mget_np(\u001b[38;5;28mself\u001b[39m\u001b[38;5;241m.\u001b[39mimage_id, frames, channel)\n\u001b[1;32m    144\u001b[0m \u001b[38;5;28;01mif\u001b[39;00m \u001b[38;5;28mself\u001b[39m\u001b[38;5;241m.\u001b[39mnd2_file \u001b[38;5;129;01mis\u001b[39;00m \u001b[38;5;129;01mnot\u001b[39;00m \u001b[38;5;28;01mNone\u001b[39;00m:\n\u001b[0;32m--> 146\u001b[0m     \u001b[38;5;28;01mreturn\u001b[39;00m \u001b[43mfunctions\u001b[49m\u001b[38;5;241;43m.\u001b[39;49m\u001b[43mread_nd2\u001b[49m\u001b[43m(\u001b[49m\u001b[43mos\u001b[49m\u001b[38;5;241;43m.\u001b[39;49m\u001b[43mpath\u001b[49m\u001b[38;5;241;43m.\u001b[39;49m\u001b[43mjoin\u001b[49m\u001b[43m(\u001b[49m\u001b[38;5;28;43mself\u001b[39;49m\u001b[38;5;241;43m.\u001b[39;49m\u001b[43mdata_path\u001b[49m\u001b[43m,\u001b[49m\u001b[43m \u001b[49m\u001b[38;5;28;43mself\u001b[39;49m\u001b[38;5;241;43m.\u001b[39;49m\u001b[43mnd2_file\u001b[49m\u001b[43m)\u001b[49m\u001b[43m,\u001b[49m\u001b[43m \u001b[49m\u001b[38;5;28;43mself\u001b[39;49m\u001b[38;5;241;43m.\u001b[39;49m\u001b[43mfov\u001b[49m\u001b[43m,\u001b[49m\u001b[43m \u001b[49m\u001b[43mframes\u001b[49m\u001b[43m,\u001b[49m\u001b[43m \u001b[49m\u001b[43mc\u001b[49m\u001b[38;5;241;43m=\u001b[39;49m\u001b[43mc\u001b[49m\u001b[43m,\u001b[49m\u001b[43m \u001b[49m\u001b[43mmanual\u001b[49m\u001b[38;5;241;43m=\u001b[39;49m\u001b[38;5;28;43mself\u001b[39;49m\u001b[38;5;241;43m.\u001b[39;49m\u001b[43mmanual\u001b[49m\u001b[43m)\u001b[49m\n\u001b[1;32m    149\u001b[0m \u001b[38;5;28;01mif\u001b[39;00m \u001b[38;5;28mself\u001b[39m\u001b[38;5;241m.\u001b[39mbf_file\u001b[38;5;241m.\u001b[39mendswith(\u001b[38;5;124m'\u001b[39m\u001b[38;5;124m.mp4\u001b[39m\u001b[38;5;124m'\u001b[39m):\n\u001b[1;32m    151\u001b[0m     \u001b[38;5;28;01mif\u001b[39;00m channel\u001b[38;5;241m==\u001b[39m\u001b[38;5;241m0\u001b[39m \u001b[38;5;129;01mor\u001b[39;00m channel\u001b[38;5;241m==\u001b[39m\u001b[38;5;124m'\u001b[39m\u001b[38;5;124mbf\u001b[39m\u001b[38;5;124m'\u001b[39m \u001b[38;5;129;01mor\u001b[39;00m channel\u001b[38;5;241m==\u001b[39m\u001b[38;5;124m'\u001b[39m\u001b[38;5;124mbf\u001b[39m\u001b[38;5;124m'\u001b[39m:\n",
      "File \u001b[0;32m/project/ag-moonraedler/MAtienza/pyama/lisca/functions.py:1084\u001b[0m, in \u001b[0;36mread_nd2\u001b[0;34m(file, v, frames, c, manual)\u001b[0m\n\u001b[1;32m   1082\u001b[0m i\u001b[38;5;241m=\u001b[39m\u001b[38;5;241m0\u001b[39m\n\u001b[1;32m   1083\u001b[0m \u001b[38;5;28;01mfor\u001b[39;00m frame \u001b[38;5;129;01min\u001b[39;00m frames:\n\u001b[0;32m-> 1084\u001b[0m     x[i] \u001b[38;5;241m=\u001b[39m \u001b[43mf\u001b[49m\u001b[38;5;241;43m.\u001b[39;49m\u001b[43mget_frame_2D\u001b[49m\u001b[43m(\u001b[49m\u001b[43mv\u001b[49m\u001b[38;5;241;43m=\u001b[39;49m\u001b[43mv\u001b[49m\u001b[43m,\u001b[49m\u001b[43m \u001b[49m\u001b[43mt\u001b[49m\u001b[38;5;241;43m=\u001b[39;49m\u001b[43mframe\u001b[49m\u001b[43m,\u001b[49m\u001b[43m \u001b[49m\u001b[43mc\u001b[49m\u001b[38;5;241;43m=\u001b[39;49m\u001b[43mc\u001b[49m\u001b[43m)\u001b[49m\n\u001b[1;32m   1085\u001b[0m     i\u001b[38;5;241m+\u001b[39m\u001b[38;5;241m=\u001b[39m\u001b[38;5;241m1\u001b[39m\n\u001b[1;32m   1087\u001b[0m \u001b[38;5;28mprint\u001b[39m(\u001b[38;5;124m'\u001b[39m\u001b[38;5;124mDone reading.\u001b[39m\u001b[38;5;124m'\u001b[39m)\n",
      "File \u001b[0;32m/scratch-local/miguel/miniconda/envs/pyama/lib/python3.8/site-packages/nd2reader/reader.py:88\u001b[0m, in \u001b[0;36mND2Reader.get_frame_2D\u001b[0;34m(self, c, t, z, x, y, v)\u001b[0m\n\u001b[1;32m     85\u001b[0m x \u001b[38;5;241m=\u001b[39m \u001b[38;5;28mself\u001b[39m\u001b[38;5;241m.\u001b[39mmetadata[\u001b[38;5;124m\"\u001b[39m\u001b[38;5;124mwidth\u001b[39m\u001b[38;5;124m\"\u001b[39m]\n\u001b[1;32m     86\u001b[0m y \u001b[38;5;241m=\u001b[39m \u001b[38;5;28mself\u001b[39m\u001b[38;5;241m.\u001b[39mmetadata[\u001b[38;5;124m\"\u001b[39m\u001b[38;5;124mheight\u001b[39m\u001b[38;5;124m\"\u001b[39m]\n\u001b[0;32m---> 88\u001b[0m \u001b[38;5;28;01mreturn\u001b[39;00m \u001b[38;5;28;43mself\u001b[39;49m\u001b[38;5;241;43m.\u001b[39;49m\u001b[43m_parser\u001b[49m\u001b[38;5;241;43m.\u001b[39;49m\u001b[43mget_image_by_attributes\u001b[49m\u001b[43m(\u001b[49m\u001b[43mt\u001b[49m\u001b[43m,\u001b[49m\u001b[43m \u001b[49m\u001b[43mv\u001b[49m\u001b[43m,\u001b[49m\u001b[43m \u001b[49m\u001b[43mc\u001b[49m\u001b[43m,\u001b[49m\u001b[43m \u001b[49m\u001b[43mz\u001b[49m\u001b[43m,\u001b[49m\u001b[43m \u001b[49m\u001b[43my\u001b[49m\u001b[43m,\u001b[49m\u001b[43m \u001b[49m\u001b[43mx\u001b[49m\u001b[43m)\u001b[49m\n",
      "File \u001b[0;32m/scratch-local/miguel/miniconda/envs/pyama/lib/python3.8/site-packages/nd2reader/parser.py:103\u001b[0m, in \u001b[0;36mParser.get_image_by_attributes\u001b[0;34m(self, frame_number, field_of_view, channel, z_level, height, width)\u001b[0m\n\u001b[1;32m    101\u001b[0m image_group_number \u001b[38;5;241m=\u001b[39m \u001b[38;5;28mself\u001b[39m\u001b[38;5;241m.\u001b[39m_calculate_image_group_number(frame_number, field_of_view, z_level)\n\u001b[1;32m    102\u001b[0m \u001b[38;5;28;01mtry\u001b[39;00m:\n\u001b[0;32m--> 103\u001b[0m     timestamp, raw_image_data \u001b[38;5;241m=\u001b[39m \u001b[38;5;28;43mself\u001b[39;49m\u001b[38;5;241;43m.\u001b[39;49m\u001b[43m_get_raw_image_data\u001b[49m\u001b[43m(\u001b[49m\u001b[43mimage_group_number\u001b[49m\u001b[43m,\u001b[49m\u001b[43m \u001b[49m\u001b[43mchannel\u001b[49m\u001b[43m,\u001b[49m\n\u001b[1;32m    104\u001b[0m \u001b[43m                                                         \u001b[49m\u001b[43mheight\u001b[49m\u001b[43m,\u001b[49m\u001b[43m \u001b[49m\u001b[43mwidth\u001b[49m\u001b[43m)\u001b[49m\n\u001b[1;32m    105\u001b[0m \u001b[38;5;28;01mexcept\u001b[39;00m (\u001b[38;5;167;01mTypeError\u001b[39;00m):\n\u001b[1;32m    106\u001b[0m     \u001b[38;5;28;01mreturn\u001b[39;00m Frame([], frame_no\u001b[38;5;241m=\u001b[39mframe_number, metadata\u001b[38;5;241m=\u001b[39m\u001b[38;5;28mself\u001b[39m\u001b[38;5;241m.\u001b[39m_get_frame_metadata())\n",
      "File \u001b[0;32m/scratch-local/miguel/miniconda/envs/pyama/lib/python3.8/site-packages/nd2reader/parser.py:262\u001b[0m, in \u001b[0;36mParser._get_raw_image_data\u001b[0;34m(self, image_group_number, channel_offset, height, width)\u001b[0m\n\u001b[1;32m    250\u001b[0m \u001b[38;5;124;03m\"\"\"Reads the raw bytes and the timestamp of an image.\u001b[39;00m\n\u001b[1;32m    251\u001b[0m \n\u001b[1;32m    252\u001b[0m \u001b[38;5;124;03mArgs:\u001b[39;00m\n\u001b[0;32m   (...)\u001b[0m\n\u001b[1;32m    259\u001b[0m \n\u001b[1;32m    260\u001b[0m \u001b[38;5;124;03m\"\"\"\u001b[39;00m\n\u001b[1;32m    261\u001b[0m chunk \u001b[38;5;241m=\u001b[39m \u001b[38;5;28mself\u001b[39m\u001b[38;5;241m.\u001b[39m_label_map\u001b[38;5;241m.\u001b[39mget_image_data_location(image_group_number)\n\u001b[0;32m--> 262\u001b[0m data \u001b[38;5;241m=\u001b[39m \u001b[43mread_chunk\u001b[49m\u001b[43m(\u001b[49m\u001b[38;5;28;43mself\u001b[39;49m\u001b[38;5;241;43m.\u001b[39;49m\u001b[43m_fh\u001b[49m\u001b[43m,\u001b[49m\u001b[43m \u001b[49m\u001b[43mchunk\u001b[49m\u001b[43m)\u001b[49m\n\u001b[1;32m    264\u001b[0m \u001b[38;5;66;03m# All images in the same image group share the same timestamp! So if you have complicated image data,\u001b[39;00m\n\u001b[1;32m    265\u001b[0m \u001b[38;5;66;03m# your timestamps may not be entirely accurate. Practically speaking though, they'll only be off by a few\u001b[39;00m\n\u001b[1;32m    266\u001b[0m \u001b[38;5;66;03m# seconds unless you're doing something super weird.\u001b[39;00m\n\u001b[1;32m    267\u001b[0m timestamp \u001b[38;5;241m=\u001b[39m struct\u001b[38;5;241m.\u001b[39munpack(\u001b[38;5;124m\"\u001b[39m\u001b[38;5;124md\u001b[39m\u001b[38;5;124m\"\u001b[39m, data[:\u001b[38;5;241m8\u001b[39m])[\u001b[38;5;241m0\u001b[39m]\n",
      "File \u001b[0;32m/scratch-local/miguel/miniconda/envs/pyama/lib/python3.8/site-packages/nd2reader/common.py:69\u001b[0m, in \u001b[0;36mread_chunk\u001b[0;34m(fh, chunk_location)\u001b[0m\n\u001b[1;32m     66\u001b[0m \u001b[38;5;66;03m# We start at the location of the chunk metadata, skip over the metadata, and then proceed to the\u001b[39;00m\n\u001b[1;32m     67\u001b[0m \u001b[38;5;66;03m# start of the actual data field, which is at some arbitrary place after the metadata.\u001b[39;00m\n\u001b[1;32m     68\u001b[0m fh\u001b[38;5;241m.\u001b[39mseek(chunk_location \u001b[38;5;241m+\u001b[39m \u001b[38;5;241m16\u001b[39m \u001b[38;5;241m+\u001b[39m relative_offset)\n\u001b[0;32m---> 69\u001b[0m \u001b[38;5;28;01mreturn\u001b[39;00m \u001b[43mfh\u001b[49m\u001b[38;5;241;43m.\u001b[39;49m\u001b[43mread\u001b[49m\u001b[43m(\u001b[49m\u001b[43mdata_length\u001b[49m\u001b[43m)\u001b[49m\n",
      "\u001b[0;31mKeyboardInterrupt\u001b[0m: "
     ]
    }
   ],
   "source": [
    "%autoreload\n",
    "fovpath=path_out+'XY0/'\n",
    "tracker = Track(fovpath, data_path, bf_channel, fl_channels, fov=0, nd2_file=nd2_file)\n",
    "#tracker.segment(flow_threshold=flow_threshold, mask_threshold=mask_threshold, diameter=diameter, pretrained_model='mdamb231')\n",
    "tracker.track()"
   ]
  },
  {
   "cell_type": "code",
   "execution_count": 10,
   "id": "40afb18e-d60e-4e30-b92f-d4f5bd3eec62",
   "metadata": {},
   "outputs": [
    {
     "name": "stdout",
     "output_type": "stream",
     "text": [
      "Reading cyto_masks.mp4 ...\n",
      "Done Reading\n"
     ]
    },
    {
     "data": {
      "application/vnd.jupyter.widget-view+json": {
       "model_id": "071a1de8e92c440f92fdcb38b725b540",
       "version_major": 2,
       "version_minor": 0
      },
      "text/plain": [
       "GridspecLayout(children=(Canvas(header_visible=False, layout=Layout(grid_area='widget001'), toolbar=Toolbar(to…"
      ]
     },
     "metadata": {},
     "output_type": "display_data"
    }
   ],
   "source": [
    "%autoreload\n",
    "Resultsviewer=viewers.ResultsViewer(data_path+nd2_file, path_out)"
   ]
  },
  {
   "cell_type": "code",
   "execution_count": 13,
   "id": "26399174-8855-4110-9308-548e58a590d4",
   "metadata": {},
   "outputs": [
    {
     "data": {
      "text/plain": [
       "['BF_20ms', 'eGFP_2s', 'DAPI_NS']"
      ]
     },
     "execution_count": 13,
     "metadata": {},
     "output_type": "execute_result"
    }
   ],
   "source": [
    "Resultsviewer.f.metadata['channels']"
   ]
  },
  {
   "cell_type": "code",
   "execution_count": 118,
   "id": "12209aa9-3ec1-4211-9998-b657cd9409d6",
   "metadata": {},
   "outputs": [],
   "source": [
    "%autoreload"
   ]
  },
  {
   "cell_type": "code",
   "execution_count": 96,
   "id": "e8811d84-0600-4224-a9d3-502f32d797a3",
   "metadata": {},
   "outputs": [
    {
     "data": {
      "text/html": [
       "<div>\n",
       "<style scoped>\n",
       "    .dataframe tbody tr th:only-of-type {\n",
       "        vertical-align: middle;\n",
       "    }\n",
       "\n",
       "    .dataframe tbody tr th {\n",
       "        vertical-align: top;\n",
       "    }\n",
       "\n",
       "    .dataframe thead th {\n",
       "        text-align: right;\n",
       "    }\n",
       "</style>\n",
       "<table border=\"1\" class=\"dataframe\">\n",
       "  <thead>\n",
       "    <tr style=\"text-align: right;\">\n",
       "      <th></th>\n",
       "      <th>Unnamed: 0</th>\n",
       "      <th>id</th>\n",
       "      <th>frame</th>\n",
       "      <th>x</th>\n",
       "      <th>y</th>\n",
       "      <th>fluorescence</th>\n",
       "      <th>particle</th>\n",
       "      <th>fl_channel</th>\n",
       "      <th>particle_id</th>\n",
       "    </tr>\n",
       "  </thead>\n",
       "  <tbody>\n",
       "    <tr>\n",
       "      <th>0</th>\n",
       "      <td>0</td>\n",
       "      <td>97</td>\n",
       "      <td>0</td>\n",
       "      <td>1087.177348</td>\n",
       "      <td>1415.548679</td>\n",
       "      <td>9083048704</td>\n",
       "      <td>7</td>\n",
       "      <td>eGFP_2s</td>\n",
       "      <td>7</td>\n",
       "    </tr>\n",
       "    <tr>\n",
       "      <th>1</th>\n",
       "      <td>1</td>\n",
       "      <td>21</td>\n",
       "      <td>0</td>\n",
       "      <td>1261.315871</td>\n",
       "      <td>245.804314</td>\n",
       "      <td>1478897803</td>\n",
       "      <td>73</td>\n",
       "      <td>eGFP_2s</td>\n",
       "      <td>73</td>\n",
       "    </tr>\n",
       "    <tr>\n",
       "      <th>2</th>\n",
       "      <td>2</td>\n",
       "      <td>19</td>\n",
       "      <td>0</td>\n",
       "      <td>1237.742323</td>\n",
       "      <td>237.806409</td>\n",
       "      <td>1706959216</td>\n",
       "      <td>78</td>\n",
       "      <td>eGFP_2s</td>\n",
       "      <td>78</td>\n",
       "    </tr>\n",
       "    <tr>\n",
       "      <th>3</th>\n",
       "      <td>3</td>\n",
       "      <td>34</td>\n",
       "      <td>0</td>\n",
       "      <td>2011.053613</td>\n",
       "      <td>460.336830</td>\n",
       "      <td>1855062480</td>\n",
       "      <td>87</td>\n",
       "      <td>eGFP_2s</td>\n",
       "      <td>87</td>\n",
       "    </tr>\n",
       "    <tr>\n",
       "      <th>4</th>\n",
       "      <td>4</td>\n",
       "      <td>16</td>\n",
       "      <td>0</td>\n",
       "      <td>1287.527822</td>\n",
       "      <td>197.090620</td>\n",
       "      <td>4231851809</td>\n",
       "      <td>89</td>\n",
       "      <td>eGFP_2s</td>\n",
       "      <td>89</td>\n",
       "    </tr>\n",
       "    <tr>\n",
       "      <th>...</th>\n",
       "      <td>...</td>\n",
       "      <td>...</td>\n",
       "      <td>...</td>\n",
       "      <td>...</td>\n",
       "      <td>...</td>\n",
       "      <td>...</td>\n",
       "      <td>...</td>\n",
       "      <td>...</td>\n",
       "      <td>...</td>\n",
       "    </tr>\n",
       "    <tr>\n",
       "      <th>7469</th>\n",
       "      <td>7469</td>\n",
       "      <td>7</td>\n",
       "      <td>170</td>\n",
       "      <td>1375.163693</td>\n",
       "      <td>60.363848</td>\n",
       "      <td>6246826676</td>\n",
       "      <td>93</td>\n",
       "      <td>DAPI_NS</td>\n",
       "      <td>93</td>\n",
       "    </tr>\n",
       "    <tr>\n",
       "      <th>7470</th>\n",
       "      <td>7470</td>\n",
       "      <td>6</td>\n",
       "      <td>170</td>\n",
       "      <td>1305.420523</td>\n",
       "      <td>75.242790</td>\n",
       "      <td>7233624178</td>\n",
       "      <td>5361</td>\n",
       "      <td>DAPI_NS</td>\n",
       "      <td>5361</td>\n",
       "    </tr>\n",
       "    <tr>\n",
       "      <th>7471</th>\n",
       "      <td>7471</td>\n",
       "      <td>43</td>\n",
       "      <td>170</td>\n",
       "      <td>1265.966583</td>\n",
       "      <td>569.434111</td>\n",
       "      <td>15186727935</td>\n",
       "      <td>6580</td>\n",
       "      <td>DAPI_NS</td>\n",
       "      <td>6580</td>\n",
       "    </tr>\n",
       "    <tr>\n",
       "      <th>7472</th>\n",
       "      <td>7472</td>\n",
       "      <td>31</td>\n",
       "      <td>170</td>\n",
       "      <td>1257.365123</td>\n",
       "      <td>338.008174</td>\n",
       "      <td>3635813412</td>\n",
       "      <td>353</td>\n",
       "      <td>DAPI_NS</td>\n",
       "      <td>353</td>\n",
       "    </tr>\n",
       "    <tr>\n",
       "      <th>7473</th>\n",
       "      <td>7473</td>\n",
       "      <td>113</td>\n",
       "      <td>170</td>\n",
       "      <td>433.874194</td>\n",
       "      <td>2037.074194</td>\n",
       "      <td>1489807680</td>\n",
       "      <td>548</td>\n",
       "      <td>DAPI_NS</td>\n",
       "      <td>548</td>\n",
       "    </tr>\n",
       "  </tbody>\n",
       "</table>\n",
       "<p>7474 rows × 9 columns</p>\n",
       "</div>"
      ],
      "text/plain": [
       "      Unnamed: 0   id  frame            x            y  fluorescence  \\\n",
       "0              0   97      0  1087.177348  1415.548679    9083048704   \n",
       "1              1   21      0  1261.315871   245.804314    1478897803   \n",
       "2              2   19      0  1237.742323   237.806409    1706959216   \n",
       "3              3   34      0  2011.053613   460.336830    1855062480   \n",
       "4              4   16      0  1287.527822   197.090620    4231851809   \n",
       "...          ...  ...    ...          ...          ...           ...   \n",
       "7469        7469    7    170  1375.163693    60.363848    6246826676   \n",
       "7470        7470    6    170  1305.420523    75.242790    7233624178   \n",
       "7471        7471   43    170  1265.966583   569.434111   15186727935   \n",
       "7472        7472   31    170  1257.365123   338.008174    3635813412   \n",
       "7473        7473  113    170   433.874194  2037.074194    1489807680   \n",
       "\n",
       "      particle fl_channel  particle_id  \n",
       "0            7    eGFP_2s            7  \n",
       "1           73    eGFP_2s           73  \n",
       "2           78    eGFP_2s           78  \n",
       "3           87    eGFP_2s           87  \n",
       "4           89    eGFP_2s           89  \n",
       "...        ...        ...          ...  \n",
       "7469        93    DAPI_NS           93  \n",
       "7470      5361    DAPI_NS         5361  \n",
       "7471      6580    DAPI_NS         6580  \n",
       "7472       353    DAPI_NS          353  \n",
       "7473       548    DAPI_NS          548  \n",
       "\n",
       "[7474 rows x 9 columns]"
      ]
     },
     "execution_count": 96,
     "metadata": {},
     "output_type": "execute_result"
    }
   ],
   "source": [
    "Resultsviewer.df"
   ]
  },
  {
   "cell_type": "code",
   "execution_count": 54,
   "id": "1c11c47d-c562-4e2b-a6b0-68826059466f",
   "metadata": {},
   "outputs": [
    {
     "data": {
      "text/html": [
       "<div>\n",
       "<style scoped>\n",
       "    .dataframe tbody tr th:only-of-type {\n",
       "        vertical-align: middle;\n",
       "    }\n",
       "\n",
       "    .dataframe tbody tr th {\n",
       "        vertical-align: top;\n",
       "    }\n",
       "\n",
       "    .dataframe thead th {\n",
       "        text-align: right;\n",
       "    }\n",
       "</style>\n",
       "<table border=\"1\" class=\"dataframe\">\n",
       "  <thead>\n",
       "    <tr style=\"text-align: right;\">\n",
       "      <th></th>\n",
       "    </tr>\n",
       "  </thead>\n",
       "  <tbody>\n",
       "  </tbody>\n",
       "</table>\n",
       "</div>"
      ],
      "text/plain": [
       "Empty DataFrame\n",
       "Columns: []\n",
       "Index: []"
      ]
     },
     "execution_count": 54,
     "metadata": {},
     "output_type": "execute_result"
    }
   ],
   "source": [
    "df.copy()"
   ]
  },
  {
   "cell_type": "code",
   "execution_count": 62,
   "id": "29f029c9-0326-4380-b4ea-568968e46719",
   "metadata": {},
   "outputs": [
    {
     "data": {
      "text/plain": [
       "['CellposeViewer',\n",
       " 'ND2Reader',\n",
       " 'Segmentation',\n",
       " 'StackViewer',\n",
       " '__builtins__',\n",
       " '__cached__',\n",
       " '__doc__',\n",
       " '__file__',\n",
       " '__loader__',\n",
       " '__name__',\n",
       " '__package__',\n",
       " '__spec__',\n",
       " 'binary_erosion',\n",
       " 'display',\n",
       " 'find_boundaries',\n",
       " 'np',\n",
       " 'os',\n",
       " 'pd',\n",
       " 'plt',\n",
       " 'widgets']"
      ]
     },
     "execution_count": 62,
     "metadata": {},
     "output_type": "execute_result"
    }
   ],
   "source": [
    "dir(viewers)"
   ]
  },
  {
   "cell_type": "code",
   "execution_count": 64,
   "id": "cf62b85a-b4ee-42eb-9415-d13a6667d3a9",
   "metadata": {},
   "outputs": [
    {
     "name": "stderr",
     "output_type": "stream",
     "text": [
      "[autoreload of notebook_viewer.viewers failed: Traceback (most recent call last):\n",
      "  File \"/scratch-local/miguel/miniconda/envs/cellpose/lib/python3.8/site-packages/IPython/extensions/autoreload.py\", line 245, in check\n",
      "    superreload(m, reload, self.old_objects)\n",
      "  File \"/scratch-local/miguel/miniconda/envs/cellpose/lib/python3.8/site-packages/IPython/extensions/autoreload.py\", line 394, in superreload\n",
      "    module = reload(module)\n",
      "  File \"/scratch-local/miguel/miniconda/envs/cellpose/lib/python3.8/imp.py\", line 314, in reload\n",
      "    return importlib.reload(module)\n",
      "  File \"/scratch-local/miguel/miniconda/envs/cellpose/lib/python3.8/importlib/__init__.py\", line 169, in reload\n",
      "    _bootstrap._exec(spec, module)\n",
      "  File \"<frozen importlib._bootstrap>\", line 604, in _exec\n",
      "  File \"<frozen importlib._bootstrap_external>\", line 843, in exec_module\n",
      "  File \"<frozen importlib._bootstrap>\", line 219, in _call_with_frames_removed\n",
      "  File \"/project/ag-moonraedler/MAtienza/pyama/notebook_viewer/viewers.py\", line 11, in <module>\n",
      "    from ..lisca import functions\n",
      "ValueError: attempted relative import beyond top-level package\n",
      "]\n"
     ]
    }
   ],
   "source": [
    "%autoreload"
   ]
  },
  {
   "cell_type": "code",
   "execution_count": 97,
   "id": "e41dd5c4-58d7-4029-9da1-b2d7c2cf473c",
   "metadata": {},
   "outputs": [],
   "source": [
    "image = tracker.read_image(tracker.bf_channel, 0)"
   ]
  },
  {
   "cell_type": "code",
   "execution_count": 102,
   "id": "5c601d03-3e67-4798-b421-f3cd5ea8c05d",
   "metadata": {},
   "outputs": [
    {
     "data": {
      "text/plain": [
       "<matplotlib.image.AxesImage at 0x7f9a8a86dcd0>"
      ]
     },
     "execution_count": 102,
     "metadata": {},
     "output_type": "execute_result"
    },
    {
     "data": {
      "application/vnd.jupyter.widget-view+json": {
       "model_id": "a055d2f360b641f79f81cc85f51b1634",
       "version_major": 2,
       "version_minor": 0
      },
      "image/png": "[encoded data removed]",
      "text/html": [
       "\n",
       "            <div style=\"display: inline-block;\">\n",
       "                <div class=\"jupyter-widgets widget-label\" style=\"text-align: center;\">\n",
       "                    Figure\n",
       "                </div>\n",
       "                <img src='data:image/png;base64,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' width=640.0/>\n",
       "            </div>\n",
       "        "
      ],
      "text/plain": [
       "Canvas(toolbar=Toolbar(toolitems=[('Home', 'Reset original view', 'home', 'home'), ('Back', 'Back to previous …"
      ]
     },
     "metadata": {},
     "output_type": "display_data"
    }
   ],
   "source": [
    "plt.subplots()\n",
    "plt.imshow(image*(tracker.mask>0))"
   ]
  },
  {
   "cell_type": "code",
   "execution_count": null,
   "id": "8931f379-77a5-456f-9c12-60ab4355cf87",
   "metadata": {},
   "outputs": [],
   "source": []
  }
 ],
 "metadata": {
  "kernelspec": {
   "display_name": "pyama",
   "language": "python",
   "name": "pyama"
  },
  "language_info": {
   "codemirror_mode": {
    "name": "ipython",
    "version": 3
   },
   "file_extension": ".py",
   "mimetype": "text/x-python",
   "name": "python",
   "nbconvert_exporter": "python",
   "pygments_lexer": "ipython3",
   "version": "3.8.13"
  }
 },
 "nbformat": 4,
 "nbformat_minor": 5
}
