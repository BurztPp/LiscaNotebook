{
 "cells": [
  {
   "cell_type": "markdown",
   "id": "56453c1e-2176-4a69-8a9e-2ec697beb1fb",
   "metadata": {
    "tags": []
   },
   "source": [
    "# This is a notebook to perform LISCA analysis\n",
    "\n",
    "Each cell corresponds to a block of code, which can be run by selecting it and pressing shift+enter. The notebook is conceived to be run sequentially. For any errors or questions contact Miguel. Make sure to select the kernel named pyama on the top right. If you cannot find a kernel named pyama, have a look at the confluence page or contact Miguel."
   ]
  },
  {
   "cell_type": "markdown",
   "id": "5ab9d375-3374-418f-85c0-58cdec71e33f",
   "metadata": {},
   "source": [
    "Run the following Cell to make all the imports"
   ]
  },
  {
   "cell_type": "code",
   "execution_count": 1,
   "id": "8821bbac-08f4-4998-937c-e656a1d278f4",
   "metadata": {
    "tags": []
   },
   "outputs": [],
   "source": [
    "import ipywidgets as widgets\n",
    "import matplotlib.pyplot as plt\n",
    "from nd2reader import ND2Reader\n",
    "import pandas as pd\n",
    "from IPython.display import display\n",
    "import numpy as np\n",
    "import sys\n",
    "import time\n",
    "\n",
    "sys.path.append('/project/ag-moonraedler/MAtienza/pyama/')\n",
    "from lisca.pipeline import Track\n",
    "\n",
    "from tqdm import tqdm\n",
    "import os\n",
    "from skimage.io import imread\n",
    "from notebook_viewer import viewers\n",
    "%matplotlib ipympl\n",
    "%load_ext autoreload"
   ]
  },
  {
   "cell_type": "markdown",
   "id": "6388ede2-cb01-45d2-a20f-63ccae95661b",
   "metadata": {},
   "source": [
    "Select the folder where your imaging file is located, as well as the folder where you would like for the output of the analysis to be saved"
   ]
  },
  {
   "cell_type": "code",
   "execution_count": 2,
   "id": "7b135906-675a-46c6-b932-883240a0774a",
   "metadata": {},
   "outputs": [],
   "source": [
    "data_path = 'D:/'\n",
    "nd2_file = 'hek293t-25um-30um-pattern-trafo.nd2'\n",
    "path_out='D:/'"
   ]
  },
  {
   "cell_type": "markdown",
   "id": "30cbc9fe-bf42-4d9d-9a5f-ddab59a88f69",
   "metadata": {},
   "source": [
    "You can use this tool to have a look at your images and find out which channel (c) is BF and which which channels are fluorscence."
   ]
  },
  {
   "cell_type": "code",
   "execution_count": null,
   "id": "bee57678-de06-4f76-b469-4caea2736e83",
   "metadata": {},
   "outputs": [],
   "source": [
    "viewer = viewers.StackViewer(os.path.join(data_path, nd2_file))"
   ]
  },
  {
   "cell_type": "code",
   "execution_count": null,
   "id": "8aaa94d0-8191-4683-b74e-1ef04c35c374",
   "metadata": {},
   "outputs": [],
   "source": [
    "plt.close(viewer.fig)"
   ]
  },
  {
   "cell_type": "code",
   "execution_count": null,
   "id": "f96aba35-f78b-4bd5-aee1-428289e48663",
   "metadata": {},
   "outputs": [],
   "source": [
    "first=0\n",
    "last=24\n",
    "positions=range(first, last+1)\n",
    "fl_channel=1\n",
    "bf_channel=0"
   ]
  },
  {
   "cell_type": "code",
   "execution_count": null,
   "id": "5b76caa3-2746-4ac7-826b-7a4731b8c9e5",
   "metadata": {},
   "outputs": [],
   "source": [
    "bf_channel=0\n",
    "fl_channels=[1,2]"
   ]
  },
  {
   "cell_type": "markdown",
   "id": "7f6068ae-4308-4027-a6b1-8fcb319d3193",
   "metadata": {},
   "source": [
    "If you plan to use cellpose segmentation,use this tool for calibration by checking which parameters work best. Otherwise you may skip this part\n"
   ]
  },
  {
   "cell_type": "code",
   "execution_count": null,
   "id": "8991c0dd-8bc5-44ee-82a5-ba18d9a37c90",
   "metadata": {},
   "outputs": [],
   "source": [
    "segmentation_viewer = viewers.CellposeViewer(data_path+nd2_file, channel=bf_channel)"
   ]
  },
  {
   "cell_type": "code",
   "execution_count": null,
   "id": "52f36ad7-672b-48a6-9821-3c4a68c8a08c",
   "metadata": {},
   "outputs": [],
   "source": [
    "try:\n",
    "    flow_threshold, diameter, mask_threshold = segmentation_viewer.flow_threshold.value, segmentation_viewer.diameter.value, segmentation_viewer.mask_threshold.value\n",
    "    plt.close(segmentation_viewer.fig)\n",
    "except:\n",
    "    flow_threshold, diameter, mask_threshold = 0.8, 29, -2\n",
    "    "
   ]
  },
  {
   "cell_type": "markdown",
   "id": "53fe282f-d617-44a5-ab9f-0f8b1e716758",
   "metadata": {},
   "source": [
    "## Perform LISCA pipeline"
   ]
  },
  {
   "cell_type": "code",
   "execution_count": 3,
   "id": "1d330196-1b74-4e5a-96d1-e5a17ad28d89",
   "metadata": {},
   "outputs": [
    {
     "name": "stdout",
     "output_type": "stream",
     "text": [
      "The autoreload extension is already loaded. To reload it, use:\n",
      "  %reload_ext autoreload\n"
     ]
    }
   ],
   "source": [
    "%load_ext autoreload"
   ]
  },
  {
   "cell_type": "markdown",
   "id": "d3f9422e-93bd-4e58-89af-ae3cf84af5a0",
   "metadata": {},
   "source": [
    "Chose a method for segmentation from either \"th\", the standard pyama method or \"cellpose\""
   ]
  },
  {
   "cell_type": "code",
   "execution_count": null,
   "id": "c7d4bb30-c73d-43c2-9d8e-2f224564690a",
   "metadata": {},
   "outputs": [],
   "source": [
    "method=\"th\""
   ]
  },
  {
   "cell_type": "markdown",
   "id": "20f303f2-d6ed-4218-89ef-bc50f9bacf82",
   "metadata": {},
   "source": [
    "Choose the positions you want to evalueate"
   ]
  },
  {
   "cell_type": "code",
   "execution_count": null,
   "id": "8845d321-0d75-4ad9-9c5a-0b2a2944d20b",
   "metadata": {},
   "outputs": [],
   "source": [
    "%autoreload\n",
    "n_positions=0\n",
    "positions = range(1)\n",
    "t_0 = time.time()\n",
    "for fov in positions:\n",
    "    print(f'Evaluating field of view {fov}')\n",
    "    \n",
    "    fovpath=os.path.join(path_out, f'XY{fov}/')\n",
    "    if not os.path.isdir(fovpath):\n",
    "        os.mkdir(fovpath)\n",
    "    tracker = Track(fovpath, data_path, bf_channel, fl_channels, fov=fov, nd2_file=nd2_file)\n",
    "    tracker.segment(flow_threshold=flow_threshold, mask_threshold=mask_threshold, diameter=diameter, pretrained_model='mdamb231', method=method)\n",
    "    tracker.save_to_pyama(fl_channel)\n",
    "    tracker.track()\n",
    "    n_positions+=1\n",
    "print(f\"Time taken per position: {(time.time()-t_0)/(60*n_positions)} minutes\")"
   ]
  },
  {
   "cell_type": "code",
   "execution_count": 26,
   "id": "40afb18e-d60e-4e30-b92f-d4f5bd3eec62",
   "metadata": {
    "scrolled": false
   },
   "outputs": [
    {
     "name": "stdout",
     "output_type": "stream",
     "text": [
      "D:/XY0/cyto_masks_th.mp4\n"
     ]
    },
    {
     "data": {
      "application/vnd.jupyter.widget-view+json": {
       "model_id": "f5e9ab6f15904b8c95b9186a82a750e7",
       "version_major": 2,
       "version_minor": 0
      },
      "text/plain": [
       "GridspecLayout(children=(Canvas(header_visible=False, layout=Layout(grid_area='widget001'), toolbar=Toolbar(to…"
      ]
     },
     "metadata": {},
     "output_type": "display_data"
    }
   ],
   "source": [
    "%autoreload\n",
    "Resultsviewer=viewers.ResultsViewer(data_path+nd2_file, path_out)"
   ]
  },
  {
   "cell_type": "code",
   "execution_count": 27,
   "id": "e8811d84-0600-4224-a9d3-502f32d797a3",
   "metadata": {
    "scrolled": true
   },
   "outputs": [
    {
     "data": {
      "text/html": [
       "<div>\n",
       "<style scoped>\n",
       "    .dataframe tbody tr th:only-of-type {\n",
       "        vertical-align: middle;\n",
       "    }\n",
       "\n",
       "    .dataframe tbody tr th {\n",
       "        vertical-align: top;\n",
       "    }\n",
       "\n",
       "    .dataframe thead th {\n",
       "        text-align: right;\n",
       "    }\n",
       "</style>\n",
       "<table border=\"1\" class=\"dataframe\">\n",
       "  <thead>\n",
       "    <tr style=\"text-align: right;\">\n",
       "      <th></th>\n",
       "      <th>frame</th>\n",
       "      <th>frame.1</th>\n",
       "      <th>x</th>\n",
       "      <th>y</th>\n",
       "      <th>cyto_locator</th>\n",
       "      <th>area</th>\n",
       "      <th>Selected</th>\n",
       "      <th>particle</th>\n",
       "      <th>eGFP_2s</th>\n",
       "      <th>DAPI_NS</th>\n",
       "    </tr>\n",
       "  </thead>\n",
       "  <tbody>\n",
       "    <tr>\n",
       "      <th>0</th>\n",
       "      <td>0</td>\n",
       "      <td>0</td>\n",
       "      <td>846.224490</td>\n",
       "      <td>258.329932</td>\n",
       "      <td>1</td>\n",
       "      <td>294</td>\n",
       "      <td>0</td>\n",
       "      <td>0</td>\n",
       "      <td>154053</td>\n",
       "      <td>351495</td>\n",
       "    </tr>\n",
       "    <tr>\n",
       "      <th>1</th>\n",
       "      <td>0</td>\n",
       "      <td>0</td>\n",
       "      <td>1259.552255</td>\n",
       "      <td>1406.517052</td>\n",
       "      <td>39</td>\n",
       "      <td>3636</td>\n",
       "      <td>0</td>\n",
       "      <td>6</td>\n",
       "      <td>1970219</td>\n",
       "      <td>4931657</td>\n",
       "    </tr>\n",
       "    <tr>\n",
       "      <th>2</th>\n",
       "      <td>0</td>\n",
       "      <td>0</td>\n",
       "      <td>930.678843</td>\n",
       "      <td>1404.519533</td>\n",
       "      <td>40</td>\n",
       "      <td>1971</td>\n",
       "      <td>0</td>\n",
       "      <td>7</td>\n",
       "      <td>1097945</td>\n",
       "      <td>2720609</td>\n",
       "    </tr>\n",
       "    <tr>\n",
       "      <th>3</th>\n",
       "      <td>0</td>\n",
       "      <td>0</td>\n",
       "      <td>1095.415952</td>\n",
       "      <td>1414.925795</td>\n",
       "      <td>41</td>\n",
       "      <td>1981</td>\n",
       "      <td>1</td>\n",
       "      <td>8</td>\n",
       "      <td>1090973</td>\n",
       "      <td>2697989</td>\n",
       "    </tr>\n",
       "    <tr>\n",
       "      <th>4</th>\n",
       "      <td>0</td>\n",
       "      <td>0</td>\n",
       "      <td>1099.678033</td>\n",
       "      <td>1555.209785</td>\n",
       "      <td>46</td>\n",
       "      <td>4047</td>\n",
       "      <td>0</td>\n",
       "      <td>12</td>\n",
       "      <td>2151054</td>\n",
       "      <td>5531721</td>\n",
       "    </tr>\n",
       "    <tr>\n",
       "      <th>...</th>\n",
       "      <td>...</td>\n",
       "      <td>...</td>\n",
       "      <td>...</td>\n",
       "      <td>...</td>\n",
       "      <td>...</td>\n",
       "      <td>...</td>\n",
       "      <td>...</td>\n",
       "      <td>...</td>\n",
       "      <td>...</td>\n",
       "      <td>...</td>\n",
       "    </tr>\n",
       "    <tr>\n",
       "      <th>6314</th>\n",
       "      <td>170</td>\n",
       "      <td>170</td>\n",
       "      <td>93.000000</td>\n",
       "      <td>854.000000</td>\n",
       "      <td>65</td>\n",
       "      <td>45</td>\n",
       "      <td>0</td>\n",
       "      <td>2772</td>\n",
       "      <td>20423</td>\n",
       "      <td>49791</td>\n",
       "    </tr>\n",
       "    <tr>\n",
       "      <th>6315</th>\n",
       "      <td>170</td>\n",
       "      <td>170</td>\n",
       "      <td>919.269996</td>\n",
       "      <td>578.932211</td>\n",
       "      <td>41</td>\n",
       "      <td>6889</td>\n",
       "      <td>0</td>\n",
       "      <td>37</td>\n",
       "      <td>72164268</td>\n",
       "      <td>8266021</td>\n",
       "    </tr>\n",
       "    <tr>\n",
       "      <th>6316</th>\n",
       "      <td>170</td>\n",
       "      <td>170</td>\n",
       "      <td>1592.673801</td>\n",
       "      <td>568.064017</td>\n",
       "      <td>43</td>\n",
       "      <td>5233</td>\n",
       "      <td>0</td>\n",
       "      <td>38</td>\n",
       "      <td>39556319</td>\n",
       "      <td>6644151</td>\n",
       "    </tr>\n",
       "    <tr>\n",
       "      <th>6317</th>\n",
       "      <td>170</td>\n",
       "      <td>170</td>\n",
       "      <td>1270.467087</td>\n",
       "      <td>578.251401</td>\n",
       "      <td>45</td>\n",
       "      <td>2856</td>\n",
       "      <td>1</td>\n",
       "      <td>40</td>\n",
       "      <td>1954735</td>\n",
       "      <td>3357430</td>\n",
       "    </tr>\n",
       "    <tr>\n",
       "      <th>6318</th>\n",
       "      <td>170</td>\n",
       "      <td>170</td>\n",
       "      <td>74.601626</td>\n",
       "      <td>616.943089</td>\n",
       "      <td>47</td>\n",
       "      <td>123</td>\n",
       "      <td>0</td>\n",
       "      <td>2708</td>\n",
       "      <td>54954</td>\n",
       "      <td>135765</td>\n",
       "    </tr>\n",
       "  </tbody>\n",
       "</table>\n",
       "<p>6319 rows × 10 columns</p>\n",
       "</div>"
      ],
      "text/plain": [
       "      frame  frame.1            x            y  cyto_locator  area  Selected  \\\n",
       "0         0        0   846.224490   258.329932             1   294         0   \n",
       "1         0        0  1259.552255  1406.517052            39  3636         0   \n",
       "2         0        0   930.678843  1404.519533            40  1971         0   \n",
       "3         0        0  1095.415952  1414.925795            41  1981         1   \n",
       "4         0        0  1099.678033  1555.209785            46  4047         0   \n",
       "...     ...      ...          ...          ...           ...   ...       ...   \n",
       "6314    170      170    93.000000   854.000000            65    45         0   \n",
       "6315    170      170   919.269996   578.932211            41  6889         0   \n",
       "6316    170      170  1592.673801   568.064017            43  5233         0   \n",
       "6317    170      170  1270.467087   578.251401            45  2856         1   \n",
       "6318    170      170    74.601626   616.943089            47   123         0   \n",
       "\n",
       "      particle   eGFP_2s  DAPI_NS  \n",
       "0            0    154053   351495  \n",
       "1            6   1970219  4931657  \n",
       "2            7   1097945  2720609  \n",
       "3            8   1090973  2697989  \n",
       "4           12   2151054  5531721  \n",
       "...        ...       ...      ...  \n",
       "6314      2772     20423    49791  \n",
       "6315        37  72164268  8266021  \n",
       "6316        38  39556319  6644151  \n",
       "6317        40   1954735  3357430  \n",
       "6318      2708     54954   135765  \n",
       "\n",
       "[6319 rows x 10 columns]"
      ]
     },
     "execution_count": 27,
     "metadata": {},
     "output_type": "execute_result"
    }
   ],
   "source": [
    "Resultsviewer.df"
   ]
  },
  {
   "cell_type": "code",
   "execution_count": 21,
   "id": "b6480a9b-b802-409d-b629-639134a9c4c1",
   "metadata": {},
   "outputs": [
    {
     "data": {
      "text/plain": [
       "8"
      ]
     },
     "execution_count": 21,
     "metadata": {},
     "output_type": "execute_result"
    }
   ],
   "source": [
    "Resultsviewer.particle_id"
   ]
  },
  {
   "cell_type": "code",
   "execution_count": 20,
   "id": "f76bc460-e426-441f-8168-a85c9e91abd4",
   "metadata": {},
   "outputs": [
    {
     "data": {
      "text/html": [
       "<div>\n",
       "<style scoped>\n",
       "    .dataframe tbody tr th:only-of-type {\n",
       "        vertical-align: middle;\n",
       "    }\n",
       "\n",
       "    .dataframe tbody tr th {\n",
       "        vertical-align: top;\n",
       "    }\n",
       "\n",
       "    .dataframe thead th {\n",
       "        text-align: right;\n",
       "    }\n",
       "</style>\n",
       "<table border=\"1\" class=\"dataframe\">\n",
       "  <thead>\n",
       "    <tr style=\"text-align: right;\">\n",
       "      <th></th>\n",
       "      <th>frame</th>\n",
       "      <th>frame.1</th>\n",
       "      <th>x</th>\n",
       "      <th>y</th>\n",
       "      <th>cyto_locator</th>\n",
       "      <th>area</th>\n",
       "      <th>Selected</th>\n",
       "      <th>particle</th>\n",
       "      <th>eGFP_2s</th>\n",
       "      <th>DAPI_NS</th>\n",
       "    </tr>\n",
       "  </thead>\n",
       "  <tbody>\n",
       "    <tr>\n",
       "      <th>5507</th>\n",
       "      <td>152</td>\n",
       "      <td>152</td>\n",
       "      <td>78.748344</td>\n",
       "      <td>1690.980132</td>\n",
       "      <td>109</td>\n",
       "      <td>151</td>\n",
       "      <td>0</td>\n",
       "      <td>3703</td>\n",
       "      <td>66895</td>\n",
       "      <td>176346</td>\n",
       "    </tr>\n",
       "    <tr>\n",
       "      <th>5714</th>\n",
       "      <td>157</td>\n",
       "      <td>157</td>\n",
       "      <td>68.000000</td>\n",
       "      <td>1695.000000</td>\n",
       "      <td>112</td>\n",
       "      <td>45</td>\n",
       "      <td>0</td>\n",
       "      <td>3703</td>\n",
       "      <td>19370</td>\n",
       "      <td>51416</td>\n",
       "    </tr>\n",
       "    <tr>\n",
       "      <th>5850</th>\n",
       "      <td>160</td>\n",
       "      <td>160</td>\n",
       "      <td>61.240631</td>\n",
       "      <td>1697.745562</td>\n",
       "      <td>126</td>\n",
       "      <td>507</td>\n",
       "      <td>0</td>\n",
       "      <td>3703</td>\n",
       "      <td>222776</td>\n",
       "      <td>580415</td>\n",
       "    </tr>\n",
       "    <tr>\n",
       "      <th>5902</th>\n",
       "      <td>161</td>\n",
       "      <td>161</td>\n",
       "      <td>70.510769</td>\n",
       "      <td>1707.049231</td>\n",
       "      <td>116</td>\n",
       "      <td>325</td>\n",
       "      <td>0</td>\n",
       "      <td>3703</td>\n",
       "      <td>142410</td>\n",
       "      <td>374185</td>\n",
       "    </tr>\n",
       "    <tr>\n",
       "      <th>5949</th>\n",
       "      <td>162</td>\n",
       "      <td>162</td>\n",
       "      <td>65.409091</td>\n",
       "      <td>1710.893939</td>\n",
       "      <td>136</td>\n",
       "      <td>66</td>\n",
       "      <td>0</td>\n",
       "      <td>3703</td>\n",
       "      <td>28681</td>\n",
       "      <td>75853</td>\n",
       "    </tr>\n",
       "    <tr>\n",
       "      <th>5996</th>\n",
       "      <td>163</td>\n",
       "      <td>163</td>\n",
       "      <td>51.647059</td>\n",
       "      <td>1692.598039</td>\n",
       "      <td>130</td>\n",
       "      <td>102</td>\n",
       "      <td>0</td>\n",
       "      <td>3703</td>\n",
       "      <td>43933</td>\n",
       "      <td>115737</td>\n",
       "    </tr>\n",
       "    <tr>\n",
       "      <th>6093</th>\n",
       "      <td>165</td>\n",
       "      <td>165</td>\n",
       "      <td>43.878378</td>\n",
       "      <td>1692.148649</td>\n",
       "      <td>123</td>\n",
       "      <td>74</td>\n",
       "      <td>0</td>\n",
       "      <td>3703</td>\n",
       "      <td>31972</td>\n",
       "      <td>83939</td>\n",
       "    </tr>\n",
       "    <tr>\n",
       "      <th>6140</th>\n",
       "      <td>166</td>\n",
       "      <td>166</td>\n",
       "      <td>70.039474</td>\n",
       "      <td>1684.118421</td>\n",
       "      <td>129</td>\n",
       "      <td>152</td>\n",
       "      <td>0</td>\n",
       "      <td>3703</td>\n",
       "      <td>67162</td>\n",
       "      <td>175247</td>\n",
       "    </tr>\n",
       "    <tr>\n",
       "      <th>6184</th>\n",
       "      <td>167</td>\n",
       "      <td>167</td>\n",
       "      <td>81.057692</td>\n",
       "      <td>1695.692308</td>\n",
       "      <td>124</td>\n",
       "      <td>104</td>\n",
       "      <td>0</td>\n",
       "      <td>3703</td>\n",
       "      <td>45515</td>\n",
       "      <td>120812</td>\n",
       "    </tr>\n",
       "    <tr>\n",
       "      <th>6224</th>\n",
       "      <td>168</td>\n",
       "      <td>168</td>\n",
       "      <td>72.500000</td>\n",
       "      <td>1686.000000</td>\n",
       "      <td>117</td>\n",
       "      <td>52</td>\n",
       "      <td>0</td>\n",
       "      <td>3703</td>\n",
       "      <td>23205</td>\n",
       "      <td>59894</td>\n",
       "    </tr>\n",
       "    <tr>\n",
       "      <th>6261</th>\n",
       "      <td>169</td>\n",
       "      <td>169</td>\n",
       "      <td>76.600694</td>\n",
       "      <td>1692.357639</td>\n",
       "      <td>118</td>\n",
       "      <td>288</td>\n",
       "      <td>0</td>\n",
       "      <td>3703</td>\n",
       "      <td>126434</td>\n",
       "      <td>331470</td>\n",
       "    </tr>\n",
       "    <tr>\n",
       "      <th>6300</th>\n",
       "      <td>170</td>\n",
       "      <td>170</td>\n",
       "      <td>57.417939</td>\n",
       "      <td>1681.969466</td>\n",
       "      <td>136</td>\n",
       "      <td>524</td>\n",
       "      <td>0</td>\n",
       "      <td>3703</td>\n",
       "      <td>229008</td>\n",
       "      <td>596061</td>\n",
       "    </tr>\n",
       "  </tbody>\n",
       "</table>\n",
       "</div>"
      ],
      "text/plain": [
       "      frame  frame.1          x            y  cyto_locator  area  Selected  \\\n",
       "5507    152      152  78.748344  1690.980132           109   151         0   \n",
       "5714    157      157  68.000000  1695.000000           112    45         0   \n",
       "5850    160      160  61.240631  1697.745562           126   507         0   \n",
       "5902    161      161  70.510769  1707.049231           116   325         0   \n",
       "5949    162      162  65.409091  1710.893939           136    66         0   \n",
       "5996    163      163  51.647059  1692.598039           130   102         0   \n",
       "6093    165      165  43.878378  1692.148649           123    74         0   \n",
       "6140    166      166  70.039474  1684.118421           129   152         0   \n",
       "6184    167      167  81.057692  1695.692308           124   104         0   \n",
       "6224    168      168  72.500000  1686.000000           117    52         0   \n",
       "6261    169      169  76.600694  1692.357639           118   288         0   \n",
       "6300    170      170  57.417939  1681.969466           136   524         0   \n",
       "\n",
       "      particle  eGFP_2s  DAPI_NS  \n",
       "5507      3703    66895   176346  \n",
       "5714      3703    19370    51416  \n",
       "5850      3703   222776   580415  \n",
       "5902      3703   142410   374185  \n",
       "5949      3703    28681    75853  \n",
       "5996      3703    43933   115737  \n",
       "6093      3703    31972    83939  \n",
       "6140      3703    67162   175247  \n",
       "6184      3703    45515   120812  \n",
       "6224      3703    23205    59894  \n",
       "6261      3703   126434   331470  \n",
       "6300      3703   229008   596061  "
      ]
     },
     "execution_count": 20,
     "metadata": {},
     "output_type": "execute_result"
    }
   ],
   "source": [
    "Resultsviewer.dfp"
   ]
  }
 ],
 "metadata": {
  "kernelspec": {
   "display_name": "Python 3 (ipykernel)",
   "language": "python",
   "name": "python3"
  },
  "language_info": {
   "codemirror_mode": {
    "name": "ipython",
    "version": 3
   },
   "file_extension": ".py",
   "mimetype": "text/x-python",
   "name": "python",
   "nbconvert_exporter": "python",
   "pygments_lexer": "ipython3",
   "version": "3.8.13"
  }
 },
 "nbformat": 4,
 "nbformat_minor": 5
}
